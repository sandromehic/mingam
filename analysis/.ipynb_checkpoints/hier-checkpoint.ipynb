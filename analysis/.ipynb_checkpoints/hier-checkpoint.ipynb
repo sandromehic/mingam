{
 "metadata": {
  "name": "",
  "signature": "sha256:fb9f63764edb73a9d1fe69baec7bcb2f85e5fd480d9139f0a285d1eac7490d01"
 },
 "nbformat": 3,
 "nbformat_minor": 0,
 "worksheets": [
  {
   "cells": [
    {
     "cell_type": "code",
     "collapsed": false,
     "input": [
      "# import neccessary libraries\n",
      "\n",
      "import networkx as nx\n",
      "import pandas as pd\n",
      "import numpy as np\n",
      "import matplotlib.pyplot as plt\n",
      "import matplotlib.colors as colors\n",
      "from os import listdir\n",
      "import itertools\n",
      "%matplotlib inline\n",
      "import pylab\n",
      "import math\n",
      "import collections\n",
      "from scipy.spatial.distance import cityblock as cityblock\n",
      "\n",
      "import pylab\n",
      "pylab.rcParams['figure.figsize'] = (10.0, 8.0)"
     ],
     "language": "python",
     "metadata": {},
     "outputs": [],
     "prompt_number": 4
    },
    {
     "cell_type": "code",
     "collapsed": false,
     "input": [
      "def draw_adjacency_matrix(G, node_order=None, partitions=[], colors=[]):\n",
      "    \"\"\"\n",
      "    - G is a netorkx graph\n",
      "    - node_order (optional) is a list of nodes, where each node in G\n",
      "          appears exactly once\n",
      "    - partitions is a list of node lists, where each node in G appears\n",
      "          in exactly one node list\n",
      "    - colors is a list of strings indicating what color each\n",
      "          partition should be\n",
      "    If partitions is specified, the same number of colors needs to be\n",
      "    specified.\n",
      "    \"\"\"\n",
      "    adjacency_matrix = nx.to_numpy_matrix(G, dtype=np.bool, nodelist=node_order)\n",
      "\n",
      "    #Plot adjacency matrix in toned-down black and white\n",
      "    fig = plt.figure(figsize=(5, 5)) # in inches\n",
      "    plt.imshow(adjacency_matrix,\n",
      "                  cmap=\"Greys\",\n",
      "                  interpolation=\"none\")\n",
      "    \n",
      "    # The rest is just if you have sorted nodes by a partition and want to\n",
      "    # highlight the module boundaries\n",
      "    assert len(partitions) == len(colors)\n",
      "    ax = plt.gca()\n",
      "    for partition, color in zip(partitions, colors):\n",
      "        current_idx = 0\n",
      "        for module in partition:\n",
      "            ax.add_patch(patches.Rectangle((current_idx, current_idx),\n",
      "                                          len(module), # Width\n",
      "                                          len(module), # Height\n",
      "                                          facecolor=\"none\",\n",
      "                                          edgecolor=color,\n",
      "                                          linewidth=\"1\"))\n",
      "            current_idx += len(module)"
     ],
     "language": "python",
     "metadata": {},
     "outputs": [],
     "prompt_number": 5
    },
    {
     "cell_type": "code",
     "collapsed": false,
     "input": [
      "n = 40\n",
      "k = 10\n",
      "g = nx.barabasi_albert_graph(n,k)\n",
      "for i in range(k):\n",
      "    for j in range(k):\n",
      "        g.add_edge(i,j)\n",
      "        \n",
      "for i in g.nodes():\n",
      "    g.add_edge(i,i)"
     ],
     "language": "python",
     "metadata": {},
     "outputs": [],
     "prompt_number": 27
    },
    {
     "cell_type": "code",
     "collapsed": false,
     "input": [
      "draw_adjacency_matrix(g)"
     ],
     "language": "python",
     "metadata": {},
     "outputs": [
      {
       "metadata": {},
       "output_type": "display_data",
       "png": "[encoded data removed]",
       "text": [
        "<matplotlib.figure.Figure at 0x7f6641e384d0>"
       ]
      }
     ],
     "prompt_number": 28
    },
    {
     "cell_type": "code",
     "collapsed": false,
     "input": [
      "degree = []\n",
      "for n in g.nodes():\n",
      "    degree.append(len(g.neighbors(n)))\n",
      "    \n",
      "print np.average(degree)"
     ],
     "language": "python",
     "metadata": {},
     "outputs": [
      {
       "output_type": "stream",
       "stream": "stdout",
       "text": [
        "37.75\n"
       ]
      }
     ],
     "prompt_number": 29
    },
    {
     "cell_type": "code",
     "collapsed": false,
     "input": [],
     "language": "python",
     "metadata": {},
     "outputs": []
    }
   ],
   "metadata": {}
  }
 ]
}