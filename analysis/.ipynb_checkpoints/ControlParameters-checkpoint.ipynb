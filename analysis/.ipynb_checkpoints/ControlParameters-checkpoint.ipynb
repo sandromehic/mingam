{
 "metadata": {
  "name": "",
  "signature": "sha256:c918e7cec81f74280911af8f1f3909820e62610ab1819fb2ec24c648ec805dea"
 },
 "nbformat": 3,
 "nbformat_minor": 0,
 "worksheets": [
  {
   "cells": [
    {
     "cell_type": "code",
     "collapsed": false,
     "input": [
      "# import neccessary libraries\n",
      "\n",
      "import pandas as pd\n",
      "import numpy as np\n",
      "import matplotlib.pyplot as plt\n",
      "from os import listdir\n",
      "%matplotlib inline"
     ],
     "language": "python",
     "metadata": {},
     "outputs": [],
     "prompt_number": 2
    },
    {
     "cell_type": "code",
     "collapsed": false,
     "input": [
      "# functions needed to study various behaviours\n",
      "\n",
      "def readData(dirname, fileConditions):\n",
      "    global attdata\n",
      "    files = listdir(dirname)\n",
      "\n",
      "    for f in files:\n",
      "        if all(con in f for con in fileConditions):\n",
      "            filesplit = f.split('_')\n",
      "            # for every file from data folder read it, then extract neccessary values\n",
      "            data = pd.read_csv(dirname + f, index_col=0)\n",
      "            # convert all the results from [-1,1] to [0,1]\n",
      "            data.replace([-1],[0], inplace=True)\n",
      "            gamedata.loc[len(gamedata)] = [int(filesplit[1]), int(filesplit[3]), int(filesplit[5]), \n",
      "                                           int(filesplit[7]), int(filesplit[9]), \n",
      "                                           (2**float(filesplit[1])/int(filesplit[3])), data.sum().mean(), \n",
      "                                           # variance, normalized variance\n",
      "                                           data.sum().var(), (data.sum().var() / int(filesplit[3])),\n",
      "                                           # standard deviation\n",
      "                                           np.std(data.sum())]\n",
      "            attdata[f] = data.sum()\n",
      "\n",
      "    attdata = pd.DataFrame(attdata)\n",
      "    # get rid of NaN instances caused by a game of only speculators not playing\n",
      "    attdata.fillna(0, inplace=True)\n",
      "    calculateHistory()\n",
      "    \n",
      "# plot attendance per rounds for various number of agents\n",
      "def plotAtt(*agentConditions):\n",
      "    # parse the input (divide number of agents from rest of the conditions\n",
      "    # that are true for every number of agents)\n",
      "    nAgentsConditions = []\n",
      "    otherConditions = []\n",
      "    for a in agentConditions:\n",
      "        if 'N' in a:\n",
      "            nAgentsConditions.append(a)\n",
      "        else:\n",
      "            otherConditions.append(a)\n",
      "            \n",
      "    for x in attdata.columns:\n",
      "        if (all(j in x for j in otherConditions) and any(k in x for k in nAgentsConditions)):\n",
      "#             attdata[x][:100].plot(legend=True)\n",
      "            attdata[x][9900:].plot(legend=True)\n",
      "\n",
      "    \n",
      "    plt.legend(loc='lower left')\n",
      "    \n",
      "# plot Alpha to normalize variance for all the runs\n",
      "def plotAlphaToNormVar():\n",
      "    alphaToNormVar = {}\n",
      "    for x in range(len(gamedata)):\n",
      "        if gamedata.alpha[x] in alphaToNormVar:\n",
      "            alphaToNormVar[gamedata.alpha[x]].append(gamedata.normVar[x])\n",
      "        else:\n",
      "            alphaToNormVar[gamedata.alpha[x]] = [gamedata.normVar[x]]\n",
      "\n",
      "    for x in alphaToNormVar.keys():\n",
      "        alphaToNormVar[x] = sum(alphaToNormVar[x]) / len(alphaToNormVar[x])\n",
      "\n",
      "    alphaToNormVar = pd.DataFrame({ 'alpha' : alphaToNormVar.keys(), 'normVar' : alphaToNormVar.values() })\n",
      "    alphaToNormVar.plot(kind='scatter', x='alpha', y='normVar', loglog=True, legend=True)\n",
      "    \n",
      "def plotMemoryToStdDev():\n",
      "    gamedata.plot(kind='scatter', x='M', y='stdDev')\n",
      "    \n",
      "def plotHistoryToProb(k, *args):\n",
      "    histDict = {}\n",
      "    # calculate history for all the games\n",
      "    # calculateHistory()\n",
      "    \n",
      "    # args are conditions of the game to be read\n",
      "    conditions = [a for a in args]\n",
      "    for key in histori.keys():\n",
      "        if all(j in key for j in conditions):\n",
      "            for x in range(k, len(histori[key])-1):\n",
      "                ckey = ''.join(str(a) for a in histori[key][x-k:x])\n",
      "                ckey = str(int(ckey,2))\n",
      "                if ckey not in histDict.keys():\n",
      "                    histDict[ckey] = []\n",
      "                histDict[ckey].append(histori[key][x])\n",
      "\n",
      "    # after we have calculated the dictionary with\n",
      "    # (key, value) = (history, decision list)\n",
      "    # we have to calculate the probability about the decision\n",
      "    # given a particular history\n",
      "    if histDict:\n",
      "        johnny = pd.DataFrame(columns=['memory', 'prob'])\n",
      "        for j in histDict.keys():\n",
      "            johnny.loc[len(johnny)] = [int(j), float(sum(histDict[j])) / len(histDict[j])]\n",
      "\n",
      "        johnny.sort(columns='memory', inplace=True)\n",
      "        johnny.plot(kind='bar', x='memory', y='prob')  \n",
      "        \n",
      "def plotPrice():\n",
      "    pass\n",
      "    \n",
      "def calculateHistory():\n",
      "    global histori\n",
      "    for k in attdata.keys():\n",
      "        filesplit = k.split('_')\n",
      "        n = int(filesplit[3])\n",
      "        histori[k] = [1 if x<=n/2 else 0 for x in attdata[k]] \n",
      "        \n",
      "    histori = pd.DataFrame(histori)"
     ],
     "language": "python",
     "metadata": {},
     "outputs": [],
     "prompt_number": 107
    },
    {
     "cell_type": "code",
     "collapsed": false,
     "input": [
      "# global variables that keep data for further study\n",
      "gamedata = pd.DataFrame(columns=['M', 'N', 'S', 'rounds', 'run', 'alpha', 'attendance mean', 'variance', 'normVar', 'stdDev'])\n",
      "attdata = {}\n",
      "histori = {}\n",
      "\n",
      "# global configuration\n",
      "dirname = '../data/test2/'\n",
      "# fileConditions = ['M_4', 'N_101', 'S_2']\n",
      "fileConditions = []\n",
      "\n",
      "# run the initial functions to read the data\n",
      "readData(dirname, fileConditions)\n",
      "\n",
      "# # calls to functions should look like this\n",
      "# plotAtt('N_501', 'N_1001', 'run_19')\n",
      "# plotAlphaToNormVar()\n",
      "# plotMemoryToStdDev()\n",
      "# plotHistoryToProb(4, 'M_4', 'N_1001', 'run_19')"
     ],
     "language": "python",
     "metadata": {},
     "outputs": [],
     "prompt_number": 104
    },
    {
     "cell_type": "code",
     "collapsed": false,
     "input": [
      "gamedata.sort(columns='alpha')"
     ],
     "language": "python",
     "metadata": {},
     "outputs": [
      {
       "html": [
        "<div style=\"max-height:1000px;max-width:1500px;overflow:auto;\">\n",
        "<table border=\"1\" class=\"dataframe\">\n",
        "  <thead>\n",
        "    <tr style=\"text-align: right;\">\n",
        "      <th></th>\n",
        "      <th>M</th>\n",
        "      <th>N</th>\n",
        "      <th>S</th>\n",
        "      <th>rounds</th>\n",
        "      <th>run</th>\n",
        "      <th>alpha</th>\n",
        "      <th>attendance mean</th>\n",
        "      <th>variance</th>\n",
        "      <th>normVar</th>\n",
        "      <th>stdDev</th>\n",
        "    </tr>\n",
        "  </thead>\n",
        "  <tbody>\n",
        "    <tr>\n",
        "      <th>0</th>\n",
        "      <td> 4</td>\n",
        "      <td> 101</td>\n",
        "      <td> 2</td>\n",
        "      <td> 10000</td>\n",
        "      <td> 2</td>\n",
        "      <td> 0.1584158</td>\n",
        "      <td> 34.2742</td>\n",
        "      <td> 15.98161</td>\n",
        "      <td>  0.1582338</td>\n",
        "      <td> 3.997501</td>\n",
        "    </tr>\n",
        "    <tr>\n",
        "      <th>1</th>\n",
        "      <td> 4</td>\n",
        "      <td> 101</td>\n",
        "      <td> 2</td>\n",
        "      <td> 10000</td>\n",
        "      <td> 1</td>\n",
        "      <td> 0.1584158</td>\n",
        "      <td> 35.2396</td>\n",
        "      <td> 20.93849</td>\n",
        "      <td>  0.2073117</td>\n",
        "      <td>  4.57563</td>\n",
        "    </tr>\n",
        "    <tr>\n",
        "      <th>2</th>\n",
        "      <td> 4</td>\n",
        "      <td> 101</td>\n",
        "      <td> 2</td>\n",
        "      <td> 10000</td>\n",
        "      <td> 0</td>\n",
        "      <td> 0.1584158</td>\n",
        "      <td> 32.8698</td>\n",
        "      <td> 3.614609</td>\n",
        "      <td> 0.03578821</td>\n",
        "      <td> 1.901118</td>\n",
        "    </tr>\n",
        "  </tbody>\n",
        "</table>\n",
        "</div>"
       ],
       "metadata": {},
       "output_type": "pyout",
       "prompt_number": 105,
       "text": [
        "   M    N  S rounds run      alpha attendance mean  variance     normVar  \\\n",
        "0  4  101  2  10000   2  0.1584158         34.2742  15.98161   0.1582338   \n",
        "1  4  101  2  10000   1  0.1584158         35.2396  20.93849   0.2073117   \n",
        "2  4  101  2  10000   0  0.1584158         32.8698  3.614609  0.03578821   \n",
        "\n",
        "     stdDev  \n",
        "0  3.997501  \n",
        "1   4.57563  \n",
        "2  1.901118  "
       ]
      }
     ],
     "prompt_number": 105
    },
    {
     "cell_type": "code",
     "collapsed": false,
     "input": [
      "plotAtt('M_4', 'N_101', 'run_2')"
     ],
     "language": "python",
     "metadata": {},
     "outputs": [
      {
       "metadata": {},
       "output_type": "display_data",
       "png": "[encoded data removed]",
       "text": [
        "<matplotlib.figure.Figure at 0x7fb621fb4b10>"
       ]
      }
     ],
     "prompt_number": 108
    },
    {
     "cell_type": "code",
     "collapsed": false,
     "input": [
      "plotHistoryToProb(4,'M_4', 'N_101', 'run_2')"
     ],
     "language": "python",
     "metadata": {},
     "outputs": [
      {
       "metadata": {},
       "output_type": "display_data",
       "png": "[encoded data removed]",
       "text": [
        "<matplotlib.figure.Figure at 0x7fb622185b50>"
       ]
      }
     ],
     "prompt_number": 109
    },
    {
     "cell_type": "code",
     "collapsed": false,
     "input": [
      "plotMemoryToStdDev()"
     ],
     "language": "python",
     "metadata": {},
     "outputs": [
      {
       "metadata": {},
       "output_type": "display_data",
       "png": "[encoded data removed]",
       "text": [
        "<matplotlib.figure.Figure at 0x7fb6249fb790>"
       ]
      }
     ],
     "prompt_number": 39
    },
    {
     "cell_type": "code",
     "collapsed": false,
     "input": [
      "plotAlphaToNormVar()"
     ],
     "language": "python",
     "metadata": {},
     "outputs": [
      {
       "metadata": {},
       "output_type": "display_data",
       "png": "[encoded data removed]",
       "text": [
        "<matplotlib.figure.Figure at 0x7fb624bb6fd0>"
       ]
      }
     ],
     "prompt_number": 82
    },
    {
     "cell_type": "code",
     "collapsed": false,
     "input": [
      "# plot the scores to the rounds\n",
      "# we have to pass the scores pandas Dataframe and the number of agents we want to plot\n",
      "def plotScores(scores, classic=0, producer=0, speculator=0, whatever=0, lowerRange=0, upperRange=-1):\n",
      "    cAgents = []\n",
      "    pAgents = []\n",
      "    sAgents = []\n",
      "    wAgents = []\n",
      "    for col in scores.columns:\n",
      "        if 'classic' in col: cAgents.append(col)\n",
      "        elif 'producer' in col: pAgents.append(col)\n",
      "        elif 'speculator' in col: sAgents.append(col)\n",
      "        else: wAgents.append(col)\n",
      "      \n",
      "    plt.figure()\n",
      "    if (classic>0 and cAgents): \n",
      "        plt.plot(scores[cAgents[:classic]][lowerRange:upperRange].index, scores[cAgents[:classic]][lowerRange:upperRange], 'b')\n",
      "    if (producer>0 and pAgents): \n",
      "        plt.plot(scores[pAgents[:producer]][lowerRange:upperRange].index, scores[pAgents[:producer]][lowerRange:upperRange], 'g')\n",
      "    if (speculator>0 and sAgents): \n",
      "        plt.plot(scores[sAgents[:speculator]][lowerRange:upperRange].index, scores[sAgents[:speculator]][lowerRange:upperRange],'r')\n",
      "    if (whatever>0 and wAgents): \n",
      "        plt.plot(scores[wAgents[:whatever]][lowerRange:upperRange].index, scores[wAgents[:whatever]][lowerRange:upperRange],'y')\n",
      "    \n",
      "plotScores(data, producer=12, speculator=20, upperRange=200, lowerRange=0)"
     ],
     "language": "python",
     "metadata": {},
     "outputs": [
      {
       "metadata": {},
       "output_type": "display_data",
       "png": "[encoded data removed]",
       "text": [
        "<matplotlib.figure.Figure at 0x7fb62172d390>"
       ]
      }
     ],
     "prompt_number": 190
    },
    {
     "cell_type": "code",
     "collapsed": false,
     "input": [],
     "language": "python",
     "metadata": {},
     "outputs": []
    }
   ],
   "metadata": {}
  }
 ]
}