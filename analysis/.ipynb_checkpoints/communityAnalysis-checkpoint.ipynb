{
 "metadata": {
  "name": "",
  "signature": "sha256:8abc613716d7a3894b404184061113f97478a0fd4e4f84e4027d37ca8ce7a1b2"
 },
 "nbformat": 3,
 "nbformat_minor": 0,
 "worksheets": [
  {
   "cells": [
    {
     "cell_type": "code",
     "collapsed": false,
     "input": [
      "# import neccessary libraries\n",
      "\n",
      "import pandas as pd\n",
      "import numpy as np\n",
      "import matplotlib.pyplot as plt\n",
      "from os import listdir\n",
      "%matplotlib inline"
     ],
     "language": "python",
     "metadata": {},
     "outputs": [],
     "prompt_number": 1
    },
    {
     "cell_type": "code",
     "collapsed": false,
     "input": [
      "# functions needed to study various behaviours\n",
      "\n",
      "def readData(dirname, fileConditions):\n",
      "    global attdata\n",
      "    files = listdir(dirname)\n",
      "\n",
      "    for f in files:\n",
      "        if all(con in f for con in fileConditions):\n",
      "            print f\n",
      "            filesplit = f.split('_')\n",
      "            # for every file from data folder read it, then extract neccessary values\n",
      "            data = pd.read_csv(dirname + f, index_col=0)\n",
      "            # convert all the results from [-1,1] to [0,1]\n",
      "            data.replace([-1],[0], inplace=True)\n",
      "#             gamedata = pd.DataFrame(columns=['neighs', 'M', 'N', 'S', 'rounds', 'run', 'alpha', 'attendance mean', 'variance', 'normVar', 'stdDev'])\n",
      "            M = int(filesplit[filesplit.index('M') +1])\n",
      "            N = int(filesplit[filesplit.index('N') +1])\n",
      "            S = int(filesplit[filesplit.index('S') +1])\n",
      "            rounds = int(filesplit[filesplit.index('rounds') +1])\n",
      "            run = int(filesplit[filesplit.index('run') +1])\n",
      "            neighs = int(filesplit[filesplit.index('neighs') +1])\n",
      "            gamedata.loc[len(gamedata)] = [neighs, M, N, S, rounds, run, \n",
      "                                           (2**float(M)/N), data.sum().mean(), \n",
      "                                           # variance, normalized variance\n",
      "                                           data.sum().var(), (data.sum().var() / N),\n",
      "                                           # standard deviation\n",
      "                                           np.std(data.sum())]\n",
      "            attdata[f] = data.sum()\n",
      "\n",
      "    attdata = pd.DataFrame(attdata)\n",
      "    # get rid of NaN instances caused by a game of only speculators not playing\n",
      "    attdata.fillna(0, inplace=True)\n",
      "    calculateHistory()\n",
      "    \n",
      "# plot attendance per rounds for various number of agents\n",
      "def plotAtt(*agentConditions):\n",
      "    # parse the input (divide number of agents from rest of the conditions\n",
      "    # that are true for every number of agents)\n",
      "    nAgentsConditions = []\n",
      "    otherConditions = []\n",
      "    for a in agentConditions:\n",
      "        if 'N' in a:\n",
      "            nAgentsConditions.append(a)\n",
      "        else:\n",
      "            otherConditions.append(a)\n",
      "            \n",
      "    for x in attdata.columns:\n",
      "        if (all(j in x for j in otherConditions) and any(k in x for k in nAgentsConditions)):\n",
      "#             attdata[x][:100].plot(legend=True)\n",
      "            attdata[x][9900:].plot(legend=True)\n",
      "\n",
      "    \n",
      "    plt.legend(loc='lower left')\n",
      "    \n",
      "# plot Alpha to normalize variance for all the runs\n",
      "def plotAlphaToNormVar():\n",
      "    alphaToNormVar = {}\n",
      "    for x in range(len(gamedata)):\n",
      "        if gamedata.alpha[x] in alphaToNormVar:\n",
      "            alphaToNormVar[gamedata.alpha[x]].append(gamedata.normVar[x])\n",
      "        else:\n",
      "            alphaToNormVar[gamedata.alpha[x]] = [gamedata.normVar[x]]\n",
      "\n",
      "    for x in alphaToNormVar.keys():\n",
      "        alphaToNormVar[x] = sum(alphaToNormVar[x]) / len(alphaToNormVar[x])\n",
      "\n",
      "    alphaToNormVar = pd.DataFrame({ 'alpha' : alphaToNormVar.keys(), 'normVar' : alphaToNormVar.values() })\n",
      "    alphaToNormVar.plot(kind='scatter', x='alpha', y='normVar', loglog=True, legend=True)\n",
      "    \n",
      "def plotMemoryToStdDev():\n",
      "    gamedata.plot(kind='scatter', x='M', y='stdDev')\n",
      "    \n",
      "def plotHistoryToProb(k, *args):\n",
      "    histDict = {}\n",
      "    # calculate history for all the games\n",
      "    # calculateHistory()\n",
      "    \n",
      "    # args are conditions of the game to be read\n",
      "    conditions = [a for a in args]\n",
      "    for key in histori.keys():\n",
      "        if all(j in key for j in conditions):\n",
      "            for x in range(k, len(histori[key])-1):\n",
      "                ckey = ''.join(str(a) for a in histori[key][x-k:x])\n",
      "                ckey = str(int(ckey,2))\n",
      "                if ckey not in histDict.keys():\n",
      "                    histDict[ckey] = []\n",
      "                histDict[ckey].append(histori[key][x])\n",
      "\n",
      "    # after we have calculated the dictionary with\n",
      "    # (key, value) = (history, decision list)\n",
      "    # we have to calculate the probability about the decision\n",
      "    # given a particular history\n",
      "    if histDict:\n",
      "        johnny = pd.DataFrame(columns=['memory', 'prob'])\n",
      "        for j in histDict.keys():\n",
      "            johnny.loc[len(johnny)] = [int(j), float(sum(histDict[j])) / len(histDict[j])]\n",
      "\n",
      "        johnny.sort(columns='memory', inplace=True)\n",
      "        johnny.plot(kind='bar', x='memory', y='prob')  \n",
      "        \n",
      "def plotPrice():\n",
      "    pass\n",
      "    \n",
      "def calculateHistory():\n",
      "    global histori\n",
      "    for k in attdata.keys():\n",
      "        filesplit = k.split('_')\n",
      "        n = int(filesplit[filesplit.index('N') +1])\n",
      "        histori[k] = [1 if x<=n/2 else 0 for x in attdata[k]] \n",
      "        \n",
      "    histori = pd.DataFrame(histori)"
     ],
     "language": "python",
     "metadata": {},
     "outputs": [],
     "prompt_number": 5
    },
    {
     "cell_type": "code",
     "collapsed": false,
     "input": [
      "# global variables that keep data for further study\n",
      "gamedata = pd.DataFrame(columns=['neighs','M', 'N', 'S', 'rounds', 'run', 'alpha', 'attendance mean', 'variance', 'normVar', 'stdDev'])\n",
      "attdata = {}\n",
      "histori = {}\n",
      "\n",
      "# global configuration\n",
      "dirname = '../data/2015-04-15 23:48:42.795263_/'\n",
      "fileConditions = []\n",
      "\n",
      "# run the initial functions to read the data\n",
      "readData(dirname, fileConditions)\n",
      "\n",
      "# # calls to functions should look like this\n",
      "# plotAtt('N_501', 'N_1001', 'run_19')\n",
      "# plotAlphaToNormVar()\n",
      "# plotMemoryToStdDev()\n",
      "# plotHistoryToProb(4, 'M_4', 'N_1001', 'run_19')"
     ],
     "language": "python",
     "metadata": {},
     "outputs": [
      {
       "output_type": "stream",
       "stream": "stdout",
       "text": [
        "coms_1_M_2_N_101_S_5_rounds_10000_run_4_.game\n",
        "coms_19_M_2_N_101_S_5_rounds_10000_run_2_.game"
       ]
      },
      {
       "output_type": "stream",
       "stream": "stdout",
       "text": [
        "\n",
        "coms_20_M_2_N_101_S_5_rounds_10000_run_3_.game"
       ]
      },
      {
       "output_type": "stream",
       "stream": "stdout",
       "text": [
        "\n",
        "coms_3_M_2_N_101_S_5_rounds_10000_run_1_.game"
       ]
      },
      {
       "output_type": "stream",
       "stream": "stdout",
       "text": [
        "\n",
        "coms_25_M_2_N_101_S_5_rounds_10000_run_2_.game"
       ]
      },
      {
       "output_type": "stream",
       "stream": "stdout",
       "text": [
        "\n",
        "coms_7_M_2_N_101_S_5_rounds_10000_run_2_.game"
       ]
      },
      {
       "output_type": "stream",
       "stream": "stdout",
       "text": [
        "\n",
        "coms_9_M_2_N_101_S_5_rounds_10000_run_3_.game"
       ]
      },
      {
       "output_type": "stream",
       "stream": "stdout",
       "text": [
        "\n",
        "coms_20_M_2_N_101_S_5_rounds_10000_run_1_.game"
       ]
      },
      {
       "output_type": "stream",
       "stream": "stdout",
       "text": [
        "\n",
        "coms_1_M_2_N_101_S_5_rounds_10000_run_3_.game"
       ]
      },
      {
       "output_type": "stream",
       "stream": "stdout",
       "text": [
        "\n",
        "coms_2_M_2_N_101_S_5_rounds_10000_run_4_.game"
       ]
      },
      {
       "output_type": "stream",
       "stream": "stdout",
       "text": [
        "\n",
        "coms_5_M_2_N_101_S_5_rounds_10000_run_2_.game"
       ]
      },
      {
       "output_type": "stream",
       "stream": "stdout",
       "text": [
        "\n",
        "coms_30_M_2_N_101_S_5_rounds_10000_run_3_.game"
       ]
      },
      {
       "output_type": "stream",
       "stream": "stdout",
       "text": [
        "\n",
        "coms_13_M_2_N_101_S_5_rounds_10000_run_2_.game"
       ]
      },
      {
       "output_type": "stream",
       "stream": "stdout",
       "text": [
        "\n",
        "coms_9_M_2_N_101_S_5_rounds_10000_run_2_.game"
       ]
      },
      {
       "output_type": "stream",
       "stream": "stdout",
       "text": [
        "\n",
        "coms_2_M_2_N_101_S_5_rounds_10000_run_1_.game"
       ]
      },
      {
       "output_type": "stream",
       "stream": "stdout",
       "text": [
        "\n",
        "coms_4_M_2_N_101_S_5_rounds_10000_run_1_.game"
       ]
      },
      {
       "output_type": "stream",
       "stream": "stdout",
       "text": [
        "\n",
        "coms_3_M_2_N_101_S_5_rounds_10000_run_3_.game"
       ]
      },
      {
       "output_type": "stream",
       "stream": "stdout",
       "text": [
        "\n",
        "coms_3_M_2_N_101_S_5_rounds_10000_run_4_.game"
       ]
      },
      {
       "output_type": "stream",
       "stream": "stdout",
       "text": [
        "\n",
        "coms_3_M_2_N_101_S_5_rounds_10000_run_2_.game"
       ]
      },
      {
       "output_type": "stream",
       "stream": "stdout",
       "text": [
        "\n",
        "coms_4_M_2_N_101_S_5_rounds_10000_run_3_.game"
       ]
      },
      {
       "output_type": "stream",
       "stream": "stdout",
       "text": [
        "\n",
        "coms_9_M_2_N_101_S_5_rounds_10000_run_1_.game"
       ]
      },
      {
       "output_type": "stream",
       "stream": "stdout",
       "text": [
        "\n",
        "coms_30_M_2_N_101_S_5_rounds_10000_run_4_.game"
       ]
      },
      {
       "output_type": "stream",
       "stream": "stdout",
       "text": [
        "\n",
        "coms_49_M_2_N_101_S_5_rounds_10000_run_2_.game"
       ]
      },
      {
       "output_type": "stream",
       "stream": "stdout",
       "text": [
        "\n",
        "coms_30_M_2_N_101_S_5_rounds_10000_run_1_.game"
       ]
      },
      {
       "output_type": "stream",
       "stream": "stdout",
       "text": [
        "\n",
        "coms_2_M_2_N_101_S_5_rounds_10000_run_3_.game"
       ]
      },
      {
       "output_type": "stream",
       "stream": "stdout",
       "text": [
        "\n",
        "coms_29_M_2_N_101_S_5_rounds_10000_run_2_.game"
       ]
      },
      {
       "output_type": "stream",
       "stream": "stdout",
       "text": [
        "\n",
        "coms_1_M_2_N_101_S_5_rounds_10000_run_1_.game"
       ]
      },
      {
       "output_type": "stream",
       "stream": "stdout",
       "text": [
        "\n",
        "coms_9_M_2_N_101_S_5_rounds_10000_run_4_.game"
       ]
      },
      {
       "output_type": "stream",
       "stream": "stdout",
       "text": [
        "\n",
        "coms_4_M_2_N_101_S_5_rounds_10000_run_4_.game"
       ]
      },
      {
       "output_type": "stream",
       "stream": "stdout",
       "text": [
        "\n",
        "coms_11_M_2_N_101_S_5_rounds_10000_run_2_.game"
       ]
      },
      {
       "output_type": "stream",
       "stream": "stdout",
       "text": [
        "\n",
        "coms_11_M_2_N_101_S_5_rounds_10000_run_3_.game"
       ]
      },
      {
       "output_type": "stream",
       "stream": "stdout",
       "text": [
        "\n",
        "coms_11_M_2_N_101_S_5_rounds_10000_run_1_.game"
       ]
      },
      {
       "output_type": "stream",
       "stream": "stdout",
       "text": [
        "\n",
        "coms_20_M_2_N_101_S_5_rounds_10000_run_4_.game"
       ]
      },
      {
       "output_type": "stream",
       "stream": "stdout",
       "text": [
        "\n",
        "coms_15_M_2_N_101_S_5_rounds_10000_run_2_.game"
       ]
      },
      {
       "output_type": "stream",
       "stream": "stdout",
       "text": [
        "\n",
        "coms_11_M_2_N_101_S_5_rounds_10000_run_4_.game"
       ]
      },
      {
       "output_type": "stream",
       "stream": "stdout",
       "text": [
        "\n"
       ]
      }
     ],
     "prompt_number": 6
    },
    {
     "cell_type": "code",
     "collapsed": false,
     "input": [
      "gamedata[gamedata['Com'] == 20]"
     ],
     "language": "python",
     "metadata": {},
     "outputs": [
      {
       "html": [
        "<div style=\"max-height:1000px;max-width:1500px;overflow:auto;\">\n",
        "<table border=\"1\" class=\"dataframe\">\n",
        "  <thead>\n",
        "    <tr style=\"text-align: right;\">\n",
        "      <th></th>\n",
        "      <th>Com</th>\n",
        "      <th>M</th>\n",
        "      <th>N</th>\n",
        "      <th>S</th>\n",
        "      <th>rounds</th>\n",
        "      <th>run</th>\n",
        "      <th>alpha</th>\n",
        "      <th>attendance mean</th>\n",
        "      <th>variance</th>\n",
        "      <th>normVar</th>\n",
        "      <th>stdDev</th>\n",
        "    </tr>\n",
        "  </thead>\n",
        "  <tbody>\n",
        "    <tr>\n",
        "      <th>2 </th>\n",
        "      <td> 20</td>\n",
        "      <td> 2</td>\n",
        "      <td> 101</td>\n",
        "      <td> 5</td>\n",
        "      <td> 10000</td>\n",
        "      <td> 3</td>\n",
        "      <td> 0.03960396</td>\n",
        "      <td> 50.5228</td>\n",
        "      <td> 19.05099</td>\n",
        "      <td> 0.1886236</td>\n",
        "      <td> 4.364525</td>\n",
        "    </tr>\n",
        "    <tr>\n",
        "      <th>7 </th>\n",
        "      <td> 20</td>\n",
        "      <td> 2</td>\n",
        "      <td> 101</td>\n",
        "      <td> 5</td>\n",
        "      <td> 10000</td>\n",
        "      <td> 1</td>\n",
        "      <td> 0.03960396</td>\n",
        "      <td> 50.5249</td>\n",
        "      <td> 19.53313</td>\n",
        "      <td> 0.1933974</td>\n",
        "      <td> 4.419409</td>\n",
        "    </tr>\n",
        "    <tr>\n",
        "      <th>32</th>\n",
        "      <td> 20</td>\n",
        "      <td> 2</td>\n",
        "      <td> 101</td>\n",
        "      <td> 5</td>\n",
        "      <td> 10000</td>\n",
        "      <td> 4</td>\n",
        "      <td> 0.03960396</td>\n",
        "      <td> 50.5221</td>\n",
        "      <td> 19.71408</td>\n",
        "      <td> 0.1951889</td>\n",
        "      <td> 4.439832</td>\n",
        "    </tr>\n",
        "  </tbody>\n",
        "</table>\n",
        "</div>"
       ],
       "metadata": {},
       "output_type": "pyout",
       "prompt_number": 15,
       "text": [
        "   Com  M    N  S rounds run       alpha attendance mean  variance    normVar  \\\n",
        "2   20  2  101  5  10000   3  0.03960396         50.5228  19.05099  0.1886236   \n",
        "7   20  2  101  5  10000   1  0.03960396         50.5249  19.53313  0.1933974   \n",
        "32  20  2  101  5  10000   4  0.03960396         50.5221  19.71408  0.1951889   \n",
        "\n",
        "      stdDev  \n",
        "2   4.364525  \n",
        "7   4.419409  \n",
        "32  4.439832  "
       ]
      }
     ],
     "prompt_number": 15
    },
    {
     "cell_type": "code",
     "collapsed": false,
     "input": [
      "asd = pd.DataFrame(columns=['com', 'N', 'normVar'])\n",
      "d = {}\n",
      "for x in range(len(gamedata)):\n",
      "    if gamedata.iloc[x]['Com'] in d.keys():\n",
      "        d[gamedata.iloc[x]['Com']].append(gamedata.iloc[x]['normVar'])\n",
      "    else:\n",
      "        d[gamedata.iloc[x]['Com']] = [gamedata.iloc[x]['normVar']]\n",
      "        \n",
      "for k in d.keys():\n",
      "    asd.loc[len(asd)] = [k, 101, np.mean(d[k])]\n",
      "    \n",
      "asd = asd[asd.com>1]"
     ],
     "language": "python",
     "metadata": {},
     "outputs": [],
     "prompt_number": 58
    },
    {
     "cell_type": "code",
     "collapsed": false,
     "input": [
      "asd.plot(kind='scatter', x='com', y='normVar')"
     ],
     "language": "python",
     "metadata": {},
     "outputs": [
      {
       "metadata": {},
       "output_type": "pyout",
       "prompt_number": 59,
       "text": [
        "<matplotlib.axes._subplots.AxesSubplot at 0x7fbec654bb50>"
       ]
      },
      {
       "metadata": {},
       "output_type": "display_data",
       "png": "[encoded data removed]",
       "text": [
        "<matplotlib.figure.Figure at 0x7fbeea4d1350>"
       ]
      }
     ],
     "prompt_number": 59
    },
    {
     "cell_type": "code",
     "collapsed": false,
     "input": [],
     "language": "python",
     "metadata": {},
     "outputs": [],
     "prompt_number": 54
    },
    {
     "cell_type": "code",
     "collapsed": false,
     "input": [
      "asd"
     ],
     "language": "python",
     "metadata": {},
     "outputs": [
      {
       "html": [
        "<div style=\"max-height:1000px;max-width:1500px;overflow:auto;\">\n",
        "<table border=\"1\" class=\"dataframe\">\n",
        "  <thead>\n",
        "    <tr style=\"text-align: right;\">\n",
        "      <th></th>\n",
        "      <th>com</th>\n",
        "      <th>N</th>\n",
        "      <th>variance</th>\n",
        "    </tr>\n",
        "  </thead>\n",
        "  <tbody>\n",
        "    <tr>\n",
        "      <th>1 </th>\n",
        "      <td>  2</td>\n",
        "      <td> 101</td>\n",
        "      <td> 121.3479</td>\n",
        "    </tr>\n",
        "    <tr>\n",
        "      <th>2 </th>\n",
        "      <td>  3</td>\n",
        "      <td> 101</td>\n",
        "      <td>  83.4275</td>\n",
        "    </tr>\n",
        "    <tr>\n",
        "      <th>3 </th>\n",
        "      <td>  4</td>\n",
        "      <td> 101</td>\n",
        "      <td> 65.31716</td>\n",
        "    </tr>\n",
        "    <tr>\n",
        "      <th>4 </th>\n",
        "      <td>  5</td>\n",
        "      <td> 101</td>\n",
        "      <td> 54.05272</td>\n",
        "    </tr>\n",
        "    <tr>\n",
        "      <th>5 </th>\n",
        "      <td>  7</td>\n",
        "      <td> 101</td>\n",
        "      <td> 39.90803</td>\n",
        "    </tr>\n",
        "    <tr>\n",
        "      <th>6 </th>\n",
        "      <td>  9</td>\n",
        "      <td> 101</td>\n",
        "      <td>  30.3398</td>\n",
        "    </tr>\n",
        "    <tr>\n",
        "      <th>7 </th>\n",
        "      <td> 11</td>\n",
        "      <td> 101</td>\n",
        "      <td>  27.3972</td>\n",
        "    </tr>\n",
        "    <tr>\n",
        "      <th>8 </th>\n",
        "      <td> 13</td>\n",
        "      <td> 101</td>\n",
        "      <td> 24.62688</td>\n",
        "    </tr>\n",
        "    <tr>\n",
        "      <th>9 </th>\n",
        "      <td> 15</td>\n",
        "      <td> 101</td>\n",
        "      <td> 21.41451</td>\n",
        "    </tr>\n",
        "    <tr>\n",
        "      <th>10</th>\n",
        "      <td> 49</td>\n",
        "      <td> 101</td>\n",
        "      <td> 16.14552</td>\n",
        "    </tr>\n",
        "    <tr>\n",
        "      <th>11</th>\n",
        "      <td> 19</td>\n",
        "      <td> 101</td>\n",
        "      <td> 20.16473</td>\n",
        "    </tr>\n",
        "    <tr>\n",
        "      <th>12</th>\n",
        "      <td> 20</td>\n",
        "      <td> 101</td>\n",
        "      <td> 19.43273</td>\n",
        "    </tr>\n",
        "    <tr>\n",
        "      <th>13</th>\n",
        "      <td> 25</td>\n",
        "      <td> 101</td>\n",
        "      <td>  16.8336</td>\n",
        "    </tr>\n",
        "    <tr>\n",
        "      <th>14</th>\n",
        "      <td> 29</td>\n",
        "      <td> 101</td>\n",
        "      <td> 19.48554</td>\n",
        "    </tr>\n",
        "    <tr>\n",
        "      <th>15</th>\n",
        "      <td> 30</td>\n",
        "      <td> 101</td>\n",
        "      <td> 19.20437</td>\n",
        "    </tr>\n",
        "  </tbody>\n",
        "</table>\n",
        "</div>"
       ],
       "metadata": {},
       "output_type": "pyout",
       "prompt_number": 55,
       "text": [
        "   com    N  variance\n",
        "1    2  101  121.3479\n",
        "2    3  101   83.4275\n",
        "3    4  101  65.31716\n",
        "4    5  101  54.05272\n",
        "5    7  101  39.90803\n",
        "6    9  101   30.3398\n",
        "7   11  101   27.3972\n",
        "8   13  101  24.62688\n",
        "9   15  101  21.41451\n",
        "10  49  101  16.14552\n",
        "11  19  101  20.16473\n",
        "12  20  101  19.43273\n",
        "13  25  101   16.8336\n",
        "14  29  101  19.48554\n",
        "15  30  101  19.20437"
       ]
      }
     ],
     "prompt_number": 55
    },
    {
     "cell_type": "code",
     "collapsed": false,
     "input": [],
     "language": "python",
     "metadata": {},
     "outputs": []
    }
   ],
   "metadata": {}
  }
 ]
}