{
 "metadata": {
  "name": "",
  "signature": "sha256:5fc48ccd61c83bc79d0d9cc50862794d7212c8af28b1bc6fcfd4337d7d4ea93d"
 },
 "nbformat": 3,
 "nbformat_minor": 0,
 "worksheets": [
  {
   "cells": [
    {
     "cell_type": "code",
     "collapsed": false,
     "input": [
      "# import neccessary libraries\n",
      "\n",
      "import networkx as nx\n",
      "import pandas as pd\n",
      "import numpy as np\n",
      "import matplotlib.pyplot as plt\n",
      "import matplotlib.colors as colors\n",
      "from os import listdir\n",
      "import itertools\n",
      "%matplotlib inline\n",
      "import pylab\n",
      "import math\n",
      "import collections\n",
      "from scipy.spatial.distance import cityblock as cityblock\n",
      "\n",
      "import pylab\n",
      "pylab.rcParams['figure.figsize'] = (10.0, 8.0)"
     ],
     "language": "python",
     "metadata": {},
     "outputs": [],
     "prompt_number": 4
    },
    {
     "cell_type": "code",
     "collapsed": false,
     "input": [
      "def draw_adjacency_matrix(G, node_order=None, partitions=[], colors=[]):\n",
      "    \"\"\"\n",
      "    - G is a netorkx graph\n",
      "    - node_order (optional) is a list of nodes, where each node in G\n",
      "          appears exactly once\n",
      "    - partitions is a list of node lists, where each node in G appears\n",
      "          in exactly one node list\n",
      "    - colors is a list of strings indicating what color each\n",
      "          partition should be\n",
      "    If partitions is specified, the same number of colors needs to be\n",
      "    specified.\n",
      "    \"\"\"\n",
      "    adjacency_matrix = nx.to_numpy_matrix(G, dtype=np.bool, nodelist=node_order)\n",
      "\n",
      "    #Plot adjacency matrix in toned-down black and white\n",
      "    fig = plt.figure(figsize=(5, 5)) # in inches\n",
      "    plt.imshow(adjacency_matrix,\n",
      "                  cmap=\"Greys\",\n",
      "                  interpolation=\"none\")\n",
      "    \n",
      "    # The rest is just if you have sorted nodes by a partition and want to\n",
      "    # highlight the module boundaries\n",
      "    assert len(partitions) == len(colors)\n",
      "    ax = plt.gca()\n",
      "    for partition, color in zip(partitions, colors):\n",
      "        current_idx = 0\n",
      "        for module in partition:\n",
      "            ax.add_patch(patches.Rectangle((current_idx, current_idx),\n",
      "                                          len(module), # Width\n",
      "                                          len(module), # Height\n",
      "                                          facecolor=\"none\",\n",
      "                                          edgecolor=color,\n",
      "                                          linewidth=\"1\"))\n",
      "            current_idx += len(module)"
     ],
     "language": "python",
     "metadata": {},
     "outputs": [],
     "prompt_number": 5
    },
    {
     "cell_type": "code",
     "collapsed": false,
     "input": [
      "n = 40\n",
      "k = 30\n",
      "g = nx.barabasi_albert_graph(n,k)\n",
      "for i in range(k):\n",
      "    for j in range(k):\n",
      "        g.add_edge(i,j)\n",
      "        \n",
      "for i in g.nodes():\n",
      "    g.add_edge(i,i)"
     ],
     "language": "python",
     "metadata": {},
     "outputs": [],
     "prompt_number": 140
    },
    {
     "cell_type": "code",
     "collapsed": false,
     "input": [
      "int(round(np.average(g.degree().values())))"
     ],
     "language": "python",
     "metadata": {},
     "outputs": [
      {
       "metadata": {},
       "output_type": "pyout",
       "prompt_number": 141,
       "text": [
        "39"
       ]
      }
     ],
     "prompt_number": 141
    },
    {
     "cell_type": "code",
     "collapsed": false,
     "input": [
      "401/10"
     ],
     "language": "python",
     "metadata": {},
     "outputs": [
      {
       "metadata": {},
       "output_type": "pyout",
       "prompt_number": 143,
       "text": [
        "40"
       ]
      }
     ],
     "prompt_number": 143
    },
    {
     "cell_type": "raw",
     "metadata": {},
     "source": []
    },
    {
     "cell_type": "code",
     "collapsed": false,
     "input": [
      "def generateBarabasiNeighSize(n):\n",
      "    k = []\n",
      "    md = []\n",
      "    for x in range(1,n):\n",
      "        g = nx.barabasi_albert_graph(n,x)\n",
      "        for i in range(x):\n",
      "            for j in range(x):\n",
      "                g.add_edge(i,j)\n",
      "\n",
      "        for i in g.nodes():\n",
      "            g.add_edge(i,i)\n",
      "\n",
      "        meanD = int(round(np.average(g.degree().values())))\n",
      "        if x<7:\n",
      "            k.append(x)\n",
      "            md.append(meanD)\n",
      "            continue\n",
      "        \n",
      "        if meanD%2!=0 and meanD not in md:\n",
      "            k.append(x)\n",
      "            md.append(meanD)\n",
      "\n",
      "    return k"
     ],
     "language": "python",
     "metadata": {},
     "outputs": [],
     "prompt_number": 152
    },
    {
     "cell_type": "code",
     "collapsed": false,
     "input": [
      "k = generateBarabasiNeighSize(40)\n",
      "print k"
     ],
     "language": "python",
     "metadata": {},
     "outputs": [
      {
       "output_type": "stream",
       "stream": "stdout",
       "text": [
        "[1, 2, 3, 4, 5, 6, 7, 10, 11, 13, 14, 16, 18, 19, 22, 24, 27, 30, 35]\n"
       ]
      }
     ],
     "prompt_number": 153
    },
    {
     "cell_type": "code",
     "collapsed": false,
     "input": [],
     "language": "python",
     "metadata": {},
     "outputs": []
    }
   ],
   "metadata": {}
  }
 ]
}